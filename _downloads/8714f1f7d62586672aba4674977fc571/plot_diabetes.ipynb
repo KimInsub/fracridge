{
  "cells": [
    {
      "cell_type": "code",
      "execution_count": null,
      "metadata": {
        "collapsed": false
      },
      "outputs": [],
      "source": [
        "%matplotlib inline"
      ]
    },
    {
      "cell_type": "markdown",
      "metadata": {},
      "source": [
        "\n# Example using scikit learn data\n\n\nWe're going to compare the performance of the fracrdige algorithm with the\nperformance of a standard approach to selection of regularization parameters:\nlog-spaced selection of alphas between very minimal regularization and\nvery strong regularization.\n"
      ]
    },
    {
      "cell_type": "code",
      "execution_count": null,
      "metadata": {
        "collapsed": false
      },
      "outputs": [],
      "source": [
        "import numpy as np\nimport matplotlib.pyplot as plt\nfrom fracridge import FracRidge\n\nfrom sklearn import datasets\nfrom sklearn.linear_model import Ridge\nfrom sklearn.model_selection import cross_val_predict\nfrom sklearn.metrics import r2_score\n\nX, y = datasets.load_diabetes(return_X_y=True)\n\nn_alphas = 20\nrr_alphas = alphas = np.logspace(-10, 10, n_alphas)\nrr_coefs = []\nrr_coefs = np.zeros((X.shape[-1], n_alphas))\nrr_pred = np.zeros((y.shape[-1], n_alphas))\nfor aa in range(len(rr_alphas)):\n    RR = Ridge(alpha=rr_alphas[aa], fit_intercept=True)\n    RR.fit(X, y)\n    rr_coefs[:, aa] = RR.coef_\n    rr_pred[:, aa] = cross_val_predict(RR, X, y)\n\nfracs = np.linspace(0, 1, n_alphas)\nFR = FracRidge(fracs=fracs, fit_intercept=True)\nFR.fit(X, y)\nfr_pred = cross_val_predict(FR, X, y)\n\nfig, ax = plt.subplots(1, 2)\nax[0].plot(fracs, FR.coef_.T)\nylims = ax[0].get_ylim()\nax[0].vlines(fracs, ylims[0], ylims[1], linewidth=0.5, color='gray')\nax[0].set_ylim(*ylims)\n\nax[1].plot(np.log(rr_alphas[::-1]), rr_coefs.T)\nylims = ax[1].get_ylim()\nax[1].vlines(np.log(rr_alphas[::-1]), ylims[0], ylims[1], linewidth=0.5,\n             color='gray')\nax[1].set_ylim(*ylims)\n\ntest_y = np.tile(y, (fr_pred.shape[-1], 1)).T\n\nrr_r2 = r2_score(test_y, rr_pred, multioutput=\"raw_values\")\nfr_r2 = r2_score(test_y, fr_pred, multioutput=\"raw_values\")\n\nfig, ax = plt.subplots(1, 2, sharey=True)\nax[0].plot(fracs, fr_r2, 'o-')\nylims = ax[0].get_ylim()\nax[0].vlines(fracs, ylims[0], ylims[1], linewidth=0.5, color='gray')\nax[0].set_ylim(*ylims)\n\nax[1].plot(np.log(rr_alphas[::-1]), rr_r2, 'o-')\nylims = ax[1].get_ylim()\nax[1].vlines(np.log(rr_alphas[::-1]), ylims[0], ylims[1], linewidth=0.5,\n             color='gray')\nax[1].set_ylim(*ylims)\n\n\nplt.show()"
      ]
    }
  ],
  "metadata": {
    "kernelspec": {
      "display_name": "Python 3",
      "language": "python",
      "name": "python3"
    },
    "language_info": {
      "codemirror_mode": {
        "name": "ipython",
        "version": 3
      },
      "file_extension": ".py",
      "mimetype": "text/x-python",
      "name": "python",
      "nbconvert_exporter": "python",
      "pygments_lexer": "ipython3",
      "version": "3.7.6"
    }
  },
  "nbformat": 4,
  "nbformat_minor": 0
}